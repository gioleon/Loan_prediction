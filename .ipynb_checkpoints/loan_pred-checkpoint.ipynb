{
 "cells": [
  {
   "cell_type": "markdown",
   "id": "05ca7c46",
   "metadata": {},
   "source": [
    "# Loan preddiction "
   ]
  },
  {
   "cell_type": "markdown",
   "id": "f3aed789",
   "metadata": {},
   "source": [
    "### Importing libraries"
   ]
  },
  {
   "cell_type": "code",
   "execution_count": 1,
   "id": "89d69842",
   "metadata": {},
   "outputs": [],
   "source": [
    "import numpy as np\n",
    "import pandas as pd\n",
    "import matplotlib.pyplot as plt\n",
    "import seaborn as sns\n",
    "import warnings\n",
    "import scipy\n",
    "warnings.filterwarnings('ignore')\n",
    "\n",
    "# Colors\n",
    "color = sns.color_palette('pastel')"
   ]
  },
  {
   "cell_type": "code",
   "execution_count": 2,
   "id": "851abcab",
   "metadata": {},
   "outputs": [],
   "source": [
    "df = pd.read_csv('data/train.csv')\n",
    "df2 = pd.read_csv('data/test.csv')"
   ]
  },
  {
   "cell_type": "code",
   "execution_count": 17,
   "id": "df0d8849",
   "metadata": {},
   "outputs": [],
   "source": [
    "#df.info()"
   ]
  },
  {
   "cell_type": "code",
   "execution_count": 12,
   "id": "3e89774a",
   "metadata": {},
   "outputs": [],
   "source": [
    "# df2.info()"
   ]
  },
  {
   "cell_type": "code",
   "execution_count": 5,
   "id": "256785f6",
   "metadata": {},
   "outputs": [],
   "source": [
    "#df.describe()"
   ]
  },
  {
   "cell_type": "code",
   "execution_count": null,
   "id": "7590a5a2",
   "metadata": {},
   "outputs": [],
   "source": [
    "#df2.describe()"
   ]
  },
  {
   "cell_type": "code",
   "execution_count": 6,
   "id": "033a695f",
   "metadata": {},
   "outputs": [],
   "source": [
    "#df.shape"
   ]
  },
  {
   "cell_type": "code",
   "execution_count": null,
   "id": "7fe34d90",
   "metadata": {},
   "outputs": [],
   "source": [
    "# df2.shape"
   ]
  },
  {
   "cell_type": "markdown",
   "id": "0e0f3945",
   "metadata": {},
   "source": [
    "## Data Pre-processing"
   ]
  },
  {
   "cell_type": "markdown",
   "id": "9ef2121e",
   "metadata": {},
   "source": [
    "### Imputing missing values for df"
   ]
  },
  {
   "cell_type": "code",
   "execution_count": 7,
   "id": "c1ee7b9a",
   "metadata": {},
   "outputs": [],
   "source": [
    "df['Gender'] = df['Gender'].fillna(df['Gender'].mode(dropna=True)[0])\n",
    "df['Married'] = df['Married'].fillna(df['Married'].mode(dropna=True)[0])\n",
    "df['Dependents'] = df['Dependents'].fillna(df['Dependents'].mode(dropna=True)[0])\n",
    "df['Self_Employed'] = df['Self_Employed'].fillna(df['Self_Employed'].mode(dropna=True)[0])"
   ]
  },
  {
   "cell_type": "markdown",
   "id": "8c3cf24d",
   "metadata": {},
   "source": [
    "Let's analyze the numeric columns with missing values to know what imputacion tecnique use."
   ]
  },
  {
   "cell_type": "code",
   "execution_count": 8,
   "id": "3719ee9e",
   "metadata": {},
   "outputs": [
    {
     "data": {
      "image/png": "[encoded data removed]",
      "text/plain": [
       "<Figure size 432x144 with 3 Axes>"
      ]
     },
     "metadata": {
      "needs_background": "light"
     },
     "output_type": "display_data"
    }
   ],
   "source": [
    "plt.figure(figsize = (6, 2))\n",
    "plt.subplot(131)\n",
    "sns.boxplot(df['LoanAmount'])\n",
    "#.plot.box()\n",
    "plt.subplot(132)\n",
    "sns.boxplot(df['Loan_Amount_Term'])\n",
    "plt.subplot(133)\n",
    "sns.boxplot(df['Credit_History'])\n",
    "plt.tight_layout()\n",
    "plt.show()"
   ]
  },
  {
   "cell_type": "code",
   "execution_count": 9,
   "id": "31d330ab",
   "metadata": {},
   "outputs": [],
   "source": [
    "df['LoanAmount'] = df['LoanAmount'].fillna(np.mean(df['LoanAmount']))\n",
    "df['Loan_Amount_Term'] = df['Loan_Amount_Term'].fillna(df['Loan_Amount_Term'].mode(dropna=True)[0])\n",
    "df['Credit_History'] = df['Credit_History'].fillna(df['Credit_History'].mode(dropna=True)[0])"
   ]
  },
  {
   "cell_type": "markdown",
   "id": "281c8645",
   "metadata": {},
   "source": [
    "### Imputing missing values for df2"
   ]
  },
  {
   "cell_type": "code",
   "execution_count": 10,
   "id": "c6e8d747",
   "metadata": {},
   "outputs": [],
   "source": [
    "df2['Gender'] = df2['Gender'].fillna(df2['Gender'].mode(dropna=True)[0])\n",
    "df2['Dependents'] = df2['Dependents'].fillna(df2['Dependents'].mode(dropna=True)[0])\n",
    "df2['Self_Employed'] = df2['Self_Employed'].fillna(df2['Self_Employed'].mode(dropna=True)[0])"
   ]
  },
  {
   "cell_type": "code",
   "execution_count": 11,
   "id": "d013a7ad",
   "metadata": {},
   "outputs": [],
   "source": [
    "df2['LoanAmount'] = df2['LoanAmount'].fillna(np.mean(df2['LoanAmount']))\n",
    "df2['Loan_Amount_Term'] = df2['Loan_Amount_Term'].fillna(df2['Loan_Amount_Term'].mode(dropna=True)[0])\n",
    "df2['Credit_History'] = df2['Credit_History'].fillna(df2['Credit_History'].mode(dropna=True)[0])"
   ]
  },
  {
   "cell_type": "markdown",
   "id": "091e7c48",
   "metadata": {},
   "source": [
    "## Looking for relations"
   ]
  },
  {
   "cell_type": "markdown",
   "id": "fb021413",
   "metadata": {},
   "source": [
    "### Gender"
   ]
  },
  {
   "cell_type": "code",
   "execution_count": 24,
   "id": "01abab3c",
   "metadata": {},
   "outputs": [],
   "source": [
    "# Let's encode the target feature.\n",
    "df['Loan_Status'] = df['Loan_Status'].replace({'Y': 1, 'N':0})"
   ]
  },
  {
   "cell_type": "code",
   "execution_count": 26,
   "id": "dbd1b46e",
   "metadata": {},
   "outputs": [
    {
     "data": {
      "text/plain": [
       "Gender\n",
       "Female    0.669643\n",
       "Male      0.691235\n",
       "Name: Loan_Status, dtype: float64"
      ]
     },
     "execution_count": 26,
     "metadata": {},
     "output_type": "execute_result"
    }
   ],
   "source": [
    "df.groupby('Gender')['Loan_Status'].mean()"
   ]
  },
  {
   "cell_type": "markdown",
   "id": "59c2d843",
   "metadata": {},
   "source": [
    "Althought there are more number of men than women, the percentage of granted loans is almost the same."
   ]
  },
  {
   "cell_type": "markdown",
   "id": "7ea8a617",
   "metadata": {},
   "source": [
    "### Married"
   ]
  },
  {
   "cell_type": "code",
   "execution_count": 28,
   "id": "93adac9c",
   "metadata": {},
   "outputs": [
    {
     "data": {
      "text/plain": [
       "Married\n",
       "No     0.629108\n",
       "Yes    0.718204\n",
       "Name: Loan_Status, dtype: float64"
      ]
     },
     "execution_count": 28,
     "metadata": {},
     "output_type": "execute_result"
    }
   ],
   "source": [
    "df.groupby('Married')['Loan_Status'].mean()"
   ]
  },
  {
   "cell_type": "markdown",
   "id": "2d27a89f",
   "metadata": {},
   "source": [
    "acording to the result, married person has more chance of obtaining a loan."
   ]
  },
  {
   "cell_type": "markdown",
   "id": "634d577f",
   "metadata": {},
   "source": [
    "### Education"
   ]
  },
  {
   "cell_type": "code",
   "execution_count": 29,
   "id": "db4d70f9",
   "metadata": {},
   "outputs": [
    {
     "data": {
      "text/plain": [
       "Education\n",
       "Graduate        0.708333\n",
       "Not Graduate    0.611940\n",
       "Name: Loan_Status, dtype: float64"
      ]
     },
     "execution_count": 29,
     "metadata": {},
     "output_type": "execute_result"
    }
   ],
   "source": [
    "df.groupby('Education')['Loan_Status'].mean()"
   ]
  },
  {
   "cell_type": "markdown",
   "id": "42904e87",
   "metadata": {},
   "source": [
    "A graduate person has more opportunity to obtain a loan."
   ]
  },
  {
   "cell_type": "markdown",
   "id": "394e6d67",
   "metadata": {},
   "source": [
    "### Self Employed"
   ]
  },
  {
   "cell_type": "code",
   "execution_count": 35,
   "id": "e4f87d5f",
   "metadata": {},
   "outputs": [
    {
     "data": {
      "text/plain": [
       "Self_Employed\n",
       "No     0.687970\n",
       "Yes    0.682927\n",
       "Name: Loan_Status, dtype: float64"
      ]
     },
     "execution_count": 35,
     "metadata": {},
     "output_type": "execute_result"
    }
   ],
   "source": [
    "df.groupby(['Self_Employed'])['Loan_Status'].mean()"
   ]
  },
  {
   "cell_type": "markdown",
   "id": "579b127c",
   "metadata": {},
   "source": [
    "The result for this feature don't say too much. Let's see if the combination of education and self employed give a better view. "
   ]
  },
  {
   "cell_type": "markdown",
   "id": "ef0bdb8e",
   "metadata": {},
   "source": [
    "### Education - Self Employed"
   ]
  },
  {
   "cell_type": "code",
   "execution_count": 36,
   "id": "0a7866d3",
   "metadata": {},
   "outputs": [
    {
     "data": {
      "text/plain": [
       "Education     Self_Employed\n",
       "Graduate      No               0.708434\n",
       "              Yes              0.707692\n",
       "Not Graduate  No               0.615385\n",
       "              Yes              0.588235\n",
       "Name: Loan_Status, dtype: float64"
      ]
     },
     "execution_count": 36,
     "metadata": {},
     "output_type": "execute_result"
    }
   ],
   "source": [
    "df.groupby(['Education', 'Self_Employed'])['Loan_Status'].mean()"
   ]
  },
  {
   "cell_type": "markdown",
   "id": "12e48c5c",
   "metadata": {},
   "source": [
    "Here we have a better view, if somebody is graduated doesn't matter whether is self employed or not, the probability to obtain a loan is a little more than 70%. Unlike to somebody who is not graduated, if they are self employed have less chance to get a loan than if they aren't(yes, weird but true)."
   ]
  },
  {
   "cell_type": "markdown",
   "id": "dfb5c17b",
   "metadata": {},
   "source": [
    "### Property Area"
   ]
  },
  {
   "cell_type": "code",
   "execution_count": 37,
   "id": "82878c62",
   "metadata": {},
   "outputs": [
    {
     "data": {
      "text/plain": [
       "Property_Area\n",
       "Rural        0.614525\n",
       "Semiurban    0.768240\n",
       "Urban        0.658416\n",
       "Name: Loan_Status, dtype: float64"
      ]
     },
     "execution_count": 37,
     "metadata": {},
     "output_type": "execute_result"
    }
   ],
   "source": [
    "df.groupby('Property_Area')['Loan_Status'].mean()"
   ]
  },
  {
   "cell_type": "markdown",
   "id": "db54f1ac",
   "metadata": {},
   "source": [
    "As we can see, people that have properties in a semiurban area have more chance to obtain a loan, unlike that people with properties in a rural area, they have the less chance."
   ]
  },
  {
   "cell_type": "markdown",
   "id": "f89a8e9c",
   "metadata": {},
   "source": [
    "### Dependents"
   ]
  },
  {
   "cell_type": "code",
   "execution_count": 38,
   "id": "3e0e84ba",
   "metadata": {},
   "outputs": [
    {
     "data": {
      "text/plain": [
       "Dependents\n",
       "0     0.686111\n",
       "1     0.647059\n",
       "2     0.752475\n",
       "3+    0.647059\n",
       "Name: Loan_Status, dtype: float64"
      ]
     },
     "execution_count": 38,
     "metadata": {},
     "output_type": "execute_result"
    }
   ],
   "source": [
    "df.groupby('Dependents')['Loan_Status'].mean()"
   ]
  },
  {
   "cell_type": "markdown",
   "id": "07614073",
   "metadata": {},
   "source": [
    "Have 2 dependents give you a better opportunity to get a loan."
   ]
  },
  {
   "cell_type": "markdown",
   "id": "1975803a",
   "metadata": {},
   "source": [
    "## Dividing predictor features and target feature"
   ]
  },
  {
   "cell_type": "code",
   "execution_count": 13,
   "id": "97e35cea",
   "metadata": {},
   "outputs": [],
   "source": [
    "x = df.iloc[:, :-1]\n",
    "y = df.iloc[:, -1]"
   ]
  },
  {
   "cell_type": "code",
   "execution_count": null,
   "id": "ef0e402a",
   "metadata": {},
   "outputs": [],
   "source": []
  }
 ],
 "metadata": {
  "kernelspec": {
   "display_name": "Python 3 (ipykernel)",
   "language": "python",
   "name": "python3"
  },
  "language_info": {
   "codemirror_mode": {
    "name": "ipython",
    "version": 3
   },
   "file_extension": ".py",
   "mimetype": "text/x-python",
   "name": "python",
   "nbconvert_exporter": "python",
   "pygments_lexer": "ipython3",
   "version": "3.8.8"
  }
 },
 "nbformat": 4,
 "nbformat_minor": 5
}
