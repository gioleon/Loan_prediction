{
 "cells": [
  {
   "cell_type": "markdown",
   "id": "05ca7c46",
   "metadata": {},
   "source": [
    "# Loan preddiction "
   ]
  },
  {
   "cell_type": "markdown",
   "id": "f3aed789",
   "metadata": {},
   "source": [
    "### Importing libraries"
   ]
  },
  {
   "cell_type": "code",
   "execution_count": 599,
   "id": "89d69842",
   "metadata": {},
   "outputs": [],
   "source": [
    "import numpy as np\n",
    "import pandas as pd\n",
    "import matplotlib.pyplot as plt\n",
    "import seaborn as sns\n",
    "import warnings\n",
    "import scipy\n",
    "from sklearn.preprocessing import OneHotEncoder\n",
    "from sklearn.linear_model import LogisticRegressionCV \n",
    "from sklearn.model_selection import RandomizedSearchCV\n",
    "from sklearn.model_selection import RepeatedStratifiedKFold\n",
    "from sklearn.preprocessing import QuantileTransformer\n",
    "from sklearn.metrics import classification_report, confusion_matrix\n",
    "warnings.filterwarnings('ignore')\n",
    "\n",
    "# Colors\n",
    "color = sns.color_palette('pastel')"
   ]
  },
  {
   "cell_type": "code",
   "execution_count": 2,
   "id": "851abcab",
   "metadata": {},
   "outputs": [],
   "source": [
    "df = pd.read_csv('data/train.csv')\n",
    "df2 = pd.read_csv('data/test.csv')"
   ]
  },
  {
   "cell_type": "code",
   "execution_count": 3,
   "id": "df0d8849",
   "metadata": {},
   "outputs": [],
   "source": [
    "#df.info()"
   ]
  },
  {
   "cell_type": "code",
   "execution_count": 4,
   "id": "3e89774a",
   "metadata": {},
   "outputs": [],
   "source": [
    "# df2.info()"
   ]
  },
  {
   "cell_type": "code",
   "execution_count": 5,
   "id": "256785f6",
   "metadata": {},
   "outputs": [],
   "source": [
    "#df.describe()"
   ]
  },
  {
   "cell_type": "code",
   "execution_count": 6,
   "id": "7590a5a2",
   "metadata": {},
   "outputs": [],
   "source": [
    "#df2.describe()"
   ]
  },
  {
   "cell_type": "code",
   "execution_count": 7,
   "id": "033a695f",
   "metadata": {},
   "outputs": [],
   "source": [
    "#df.shape"
   ]
  },
  {
   "cell_type": "code",
   "execution_count": 8,
   "id": "7fe34d90",
   "metadata": {},
   "outputs": [],
   "source": [
    "# df2.shape"
   ]
  },
  {
   "cell_type": "markdown",
   "id": "0e0f3945",
   "metadata": {},
   "source": [
    "## Data Pre-processing"
   ]
  },
  {
   "cell_type": "markdown",
   "id": "01397bed-99bf-46ab-8bee-bfc26cda2226",
   "metadata": {},
   "source": [
    "### Deleting Loan ID column"
   ]
  },
  {
   "cell_type": "code",
   "execution_count": null,
   "id": "9b4a47c5-4193-4e69-9307-321cc8881342",
   "metadata": {},
   "outputs": [],
   "source": [
    "df.drop('Loan_ID', axis = 1, inplace = True)"
   ]
  },
  {
   "cell_type": "markdown",
   "id": "9ef2121e",
   "metadata": {},
   "source": [
    "### Imputing missing values for df"
   ]
  },
  {
   "cell_type": "code",
   "execution_count": 9,
   "id": "c1ee7b9a",
   "metadata": {},
   "outputs": [],
   "source": [
    "df['Gender'] = df['Gender'].fillna(df['Gender'].mode(dropna=True)[0])\n",
    "df['Married'] = df['Married'].fillna(df['Married'].mode(dropna=True)[0])\n",
    "df['Dependents'] = df['Dependents'].fillna(df['Dependents'].mode(dropna=True)[0])\n",
    "df['Self_Employed'] = df['Self_Employed'].fillna(df['Self_Employed'].mode(dropna=True)[0])"
   ]
  },
  {
   "cell_type": "markdown",
   "id": "8c3cf24d",
   "metadata": {},
   "source": [
    "Let's analyze the numeric columns with missing values to know what imputacion tecnique use."
   ]
  },
  {
   "cell_type": "code",
   "execution_count": 10,
   "id": "3719ee9e",
   "metadata": {},
   "outputs": [
    {
     "data": {
      "image/png": "[encoded data removed]",
      "text/plain": [
       "<Figure size 432x144 with 3 Axes>"
      ]
     },
     "metadata": {
      "needs_background": "light"
     },
     "output_type": "display_data"
    }
   ],
   "source": [
    "plt.figure(figsize = (6, 2))\n",
    "plt.subplot(131)\n",
    "sns.boxplot(df['LoanAmount'])\n",
    "#.plot.box()\n",
    "plt.subplot(132)\n",
    "sns.boxplot(df['Loan_Amount_Term'])\n",
    "plt.subplot(133)\n",
    "sns.boxplot(df['Credit_History'])\n",
    "plt.tight_layout()\n",
    "plt.show()"
   ]
  },
  {
   "cell_type": "code",
   "execution_count": 11,
   "id": "31d330ab",
   "metadata": {},
   "outputs": [],
   "source": [
    "df['LoanAmount'] = df['LoanAmount'].fillna(np.mean(df['LoanAmount']))\n",
    "df['Loan_Amount_Term'] = df['Loan_Amount_Term'].fillna(df['Loan_Amount_Term'].mode(dropna=True)[0])\n",
    "df['Credit_History'] = df['Credit_History'].fillna(df['Credit_History'].mode(dropna=True)[0])"
   ]
  },
  {
   "cell_type": "markdown",
   "id": "281c8645",
   "metadata": {},
   "source": [
    "### Imputing missing values for df2"
   ]
  },
  {
   "cell_type": "code",
   "execution_count": 12,
   "id": "c6e8d747",
   "metadata": {},
   "outputs": [],
   "source": [
    "df2['Gender'] = df2['Gender'].fillna(df2['Gender'].mode(dropna=True)[0])\n",
    "df2['Dependents'] = df2['Dependents'].fillna(df2['Dependents'].mode(dropna=True)[0])\n",
    "df2['Self_Employed'] = df2['Self_Employed'].fillna(df2['Self_Employed'].mode(dropna=True)[0])"
   ]
  },
  {
   "cell_type": "code",
   "execution_count": 13,
   "id": "d013a7ad",
   "metadata": {},
   "outputs": [],
   "source": [
    "df2['LoanAmount'] = df2['LoanAmount'].fillna(np.mean(df2['LoanAmount']))\n",
    "df2['Loan_Amount_Term'] = df2['Loan_Amount_Term'].fillna(df2['Loan_Amount_Term'].mode(dropna=True)[0])\n",
    "df2['Credit_History'] = df2['Credit_History'].fillna(df2['Credit_History'].mode(dropna=True)[0])"
   ]
  },
  {
   "cell_type": "markdown",
   "id": "091e7c48",
   "metadata": {},
   "source": [
    "## Looking for relations"
   ]
  },
  {
   "cell_type": "markdown",
   "id": "fb021413",
   "metadata": {},
   "source": [
    "### Gender"
   ]
  },
  {
   "cell_type": "code",
   "execution_count": 14,
   "id": "01abab3c",
   "metadata": {},
   "outputs": [],
   "source": [
    "# Let's encode the target feature.\n",
    "df['Loan_Status'] = df['Loan_Status'].replace({'Y': 1, 'N':0})"
   ]
  },
  {
   "cell_type": "code",
   "execution_count": 15,
   "id": "dbd1b46e",
   "metadata": {},
   "outputs": [
    {
     "data": {
      "text/plain": [
       "Gender\n",
       "Female    0.669643\n",
       "Male      0.691235\n",
       "Name: Loan_Status, dtype: float64"
      ]
     },
     "execution_count": 15,
     "metadata": {},
     "output_type": "execute_result"
    }
   ],
   "source": [
    "df.groupby('Gender')['Loan_Status'].mean()"
   ]
  },
  {
   "cell_type": "markdown",
   "id": "59c2d843",
   "metadata": {},
   "source": [
    "Althought there are more number of men than women, the percentage of granted loans is almost the same."
   ]
  },
  {
   "cell_type": "markdown",
   "id": "7ea8a617",
   "metadata": {},
   "source": [
    "### Married"
   ]
  },
  {
   "cell_type": "code",
   "execution_count": 16,
   "id": "93adac9c",
   "metadata": {},
   "outputs": [
    {
     "data": {
      "text/plain": [
       "Married\n",
       "No     0.629108\n",
       "Yes    0.718204\n",
       "Name: Loan_Status, dtype: float64"
      ]
     },
     "execution_count": 16,
     "metadata": {},
     "output_type": "execute_result"
    }
   ],
   "source": [
    "df.groupby('Married')['Loan_Status'].mean()"
   ]
  },
  {
   "cell_type": "markdown",
   "id": "2d27a89f",
   "metadata": {},
   "source": [
    "acording to the result, married person has more chance of obtaining a loan."
   ]
  },
  {
   "cell_type": "markdown",
   "id": "634d577f",
   "metadata": {},
   "source": [
    "### Education"
   ]
  },
  {
   "cell_type": "code",
   "execution_count": 17,
   "id": "db4d70f9",
   "metadata": {},
   "outputs": [
    {
     "data": {
      "text/plain": [
       "Education\n",
       "Graduate        0.708333\n",
       "Not Graduate    0.611940\n",
       "Name: Loan_Status, dtype: float64"
      ]
     },
     "execution_count": 17,
     "metadata": {},
     "output_type": "execute_result"
    }
   ],
   "source": [
    "df.groupby('Education')['Loan_Status'].mean()"
   ]
  },
  {
   "cell_type": "markdown",
   "id": "42904e87",
   "metadata": {},
   "source": [
    "A graduate person has more opportunity to obtain a loan."
   ]
  },
  {
   "cell_type": "markdown",
   "id": "394e6d67",
   "metadata": {},
   "source": [
    "### Self Employed"
   ]
  },
  {
   "cell_type": "code",
   "execution_count": 18,
   "id": "e4f87d5f",
   "metadata": {},
   "outputs": [
    {
     "data": {
      "text/plain": [
       "Self_Employed\n",
       "No     0.687970\n",
       "Yes    0.682927\n",
       "Name: Loan_Status, dtype: float64"
      ]
     },
     "execution_count": 18,
     "metadata": {},
     "output_type": "execute_result"
    }
   ],
   "source": [
    "df.groupby(['Self_Employed'])['Loan_Status'].mean()"
   ]
  },
  {
   "cell_type": "markdown",
   "id": "579b127c",
   "metadata": {},
   "source": [
    "The result for this feature don't say too much. Let's see if the combination of education and self employed give a better view. "
   ]
  },
  {
   "cell_type": "markdown",
   "id": "ef0bdb8e",
   "metadata": {},
   "source": [
    "### Education - Self Employed"
   ]
  },
  {
   "cell_type": "code",
   "execution_count": 19,
   "id": "0a7866d3",
   "metadata": {},
   "outputs": [
    {
     "data": {
      "text/plain": [
       "Education     Self_Employed\n",
       "Graduate      No               0.708434\n",
       "              Yes              0.707692\n",
       "Not Graduate  No               0.615385\n",
       "              Yes              0.588235\n",
       "Name: Loan_Status, dtype: float64"
      ]
     },
     "execution_count": 19,
     "metadata": {},
     "output_type": "execute_result"
    }
   ],
   "source": [
    "df.groupby(['Education', 'Self_Employed'])['Loan_Status'].mean()"
   ]
  },
  {
   "cell_type": "markdown",
   "id": "12e48c5c",
   "metadata": {},
   "source": [
    "Here we have a better view, if somebody is graduated doesn't matter whether is self employed or not, the probability to obtain a loan is a little more than 70%. Unlike to somebody who is not graduated, if they are self employed have less chance to get a loan than if they aren't(yes, weird but true)."
   ]
  },
  {
   "cell_type": "markdown",
   "id": "dfb5c17b",
   "metadata": {},
   "source": [
    "### Property Area"
   ]
  },
  {
   "cell_type": "code",
   "execution_count": 20,
   "id": "82878c62",
   "metadata": {},
   "outputs": [
    {
     "data": {
      "text/plain": [
       "Property_Area\n",
       "Rural        0.614525\n",
       "Semiurban    0.768240\n",
       "Urban        0.658416\n",
       "Name: Loan_Status, dtype: float64"
      ]
     },
     "execution_count": 20,
     "metadata": {},
     "output_type": "execute_result"
    }
   ],
   "source": [
    "df.groupby('Property_Area')['Loan_Status'].mean()"
   ]
  },
  {
   "cell_type": "markdown",
   "id": "db54f1ac",
   "metadata": {},
   "source": [
    "As we can see, people that have properties in a semiurban area have more chance to obtain a loan, unlike that people with properties in a rural area, they have the less chance."
   ]
  },
  {
   "cell_type": "markdown",
   "id": "f89a8e9c",
   "metadata": {},
   "source": [
    "### Dependents"
   ]
  },
  {
   "cell_type": "code",
   "execution_count": 21,
   "id": "3e0e84ba",
   "metadata": {},
   "outputs": [
    {
     "data": {
      "text/plain": [
       "Dependents\n",
       "0     0.686111\n",
       "1     0.647059\n",
       "2     0.752475\n",
       "3+    0.647059\n",
       "Name: Loan_Status, dtype: float64"
      ]
     },
     "execution_count": 21,
     "metadata": {},
     "output_type": "execute_result"
    }
   ],
   "source": [
    "df.groupby('Dependents')['Loan_Status'].mean()"
   ]
  },
  {
   "cell_type": "markdown",
   "id": "b1517198-9636-4349-86d4-c2f27955046b",
   "metadata": {},
   "source": [
    "Have 2 dependents give you a better opportunity to get a loan."
   ]
  },
  {
   "cell_type": "markdown",
   "id": "e654bbfe-1388-4f28-83bb-585cc2b614fe",
   "metadata": {},
   "source": [
    "### Credit History"
   ]
  },
  {
   "cell_type": "code",
   "execution_count": 25,
   "id": "74e4a212-e3bc-446d-a3bb-b55d50a9de79",
   "metadata": {},
   "outputs": [
    {
     "data": {
      "text/plain": [
       "Credit_History\n",
       "0.0    0.078652\n",
       "1.0    0.790476\n",
       "Name: Loan_Status, dtype: float64"
      ]
     },
     "execution_count": 25,
     "metadata": {},
     "output_type": "execute_result"
    }
   ],
   "source": [
    "df.groupby('Credit_History')['Loan_Status'].mean()"
   ]
  },
  {
   "cell_type": "markdown",
   "id": "07614073",
   "metadata": {},
   "source": [
    "As we can see, have credit history increses our chance of obtaining a loan."
   ]
  },
  {
   "cell_type": "markdown",
   "id": "93d7c726-d22a-4b38-8bae-ee5140095c2f",
   "metadata": {},
   "source": [
    "### Correlation between numeric columns and predictor variable"
   ]
  },
  {
   "cell_type": "code",
   "execution_count": 28,
   "id": "058e2009-967d-4b81-995f-75e97d360fc2",
   "metadata": {},
   "outputs": [
    {
     "data": {
      "text/plain": [
       "<AxesSubplot:>"
      ]
     },
     "execution_count": 28,
     "metadata": {},
     "output_type": "execute_result"
    },
    {
     "data": {
      "image/png": "[encoded data removed]",
      "text/plain": [
       "<Figure size 432x288 with 2 Axes>"
      ]
     },
     "metadata": {
      "needs_background": "light"
     },
     "output_type": "display_data"
    }
   ],
   "source": [
    "sns.heatmap(df.corr(), annot = True)"
   ]
  },
  {
   "cell_type": "code",
   "execution_count": 33,
   "id": "f7be3aa0-fe39-4072-bd33-bbfe37f381a9",
   "metadata": {},
   "outputs": [
    {
     "data": {
      "image/png": "[encoded data removed]",
      "text/plain": [
       "<Figure size 720x432 with 4 Axes>"
      ]
     },
     "metadata": {
      "needs_background": "light"
     },
     "output_type": "display_data"
    }
   ],
   "source": [
    "plt.figure(figsize=(10, 6))\n",
    "plt.subplot(221)\n",
    "plt.scatter(df['Loan_Status'], df['ApplicantIncome'])\n",
    "plt.title('Loan Status vs Applicant Income')\n",
    "plt.subplot(222)\n",
    "plt.scatter(df['Loan_Status'], df['CoapplicantIncome'])\n",
    "plt.title('Loan Status vs Coapplicant Income')\n",
    "plt.subplot(223)\n",
    "plt.scatter(df['Loan_Status'], df['LoanAmount'])\n",
    "plt.title('Loan Status vs Loan Amount')\n",
    "plt.subplot(224)\n",
    "plt.scatter(df['Loan_Status'], df['Loan_Amount_Term'])\n",
    "plt.title('Loan Status vs Loan Amount Term')\n",
    "plt.tight_layout()\n",
    "plt.show()"
   ]
  },
  {
   "cell_type": "code",
   "execution_count": null,
   "id": "dc7a3f35-db81-47e3-9ef2-7bdfda995a67",
   "metadata": {},
   "outputs": [],
   "source": [
    "Confirming the result of the pearson correlation, there's no a strong relationship between the features plotted above and target feature."
   ]
  },
  {
   "cell_type": "markdown",
   "id": "d46c8e40-a724-43af-b705-42c75a476936",
   "metadata": {},
   "source": [
    "### Selecting features with a strong correlation."
   ]
  },
  {
   "cell_type": "code",
   "execution_count": 590,
   "id": "3aef6c97-4571-4742-9f54-8730685fe2a4",
   "metadata": {},
   "outputs": [],
   "source": [
    "features = ['Gender', 'Married', 'Education', 'Credit_History', 'Property_Area']"
   ]
  },
  {
   "cell_type": "markdown",
   "id": "1975803a",
   "metadata": {},
   "source": [
    "## Dividing predictor features and target feature"
   ]
  },
  {
   "cell_type": "code",
   "execution_count": 591,
   "id": "f21bd11d-d277-49ed-8564-a05450a48622",
   "metadata": {},
   "outputs": [],
   "source": [
    "x = df[features]\n",
    "y = df['Loan_Status']"
   ]
  },
  {
   "cell_type": "markdown",
   "id": "99597a73-0c47-42a2-9cf9-ce8229f3ea4b",
   "metadata": {},
   "source": [
    "### Split df into train and test sets"
   ]
  },
  {
   "cell_type": "code",
   "execution_count": 604,
   "id": "7df07a65-1539-45d8-8f06-19a080c177d1",
   "metadata": {},
   "outputs": [],
   "source": [
    "rskf = RepeatedStratifiedKFold()\n",
    "for train_index, test_index in rskf.split(x, y):\n",
    "    x_train, x_test = x.iloc[train_index], x.iloc[test_index]\n",
    "    y_train, y_test = y.iloc[train_index], y.iloc[test_index]"
   ]
  },
  {
   "cell_type": "markdown",
   "id": "0e064ff3-27ec-4985-ab67-6cb165537de3",
   "metadata": {},
   "source": [
    "### Scale numeric features"
   ]
  },
  {
   "cell_type": "code",
   "execution_count": 578,
   "id": "4b948bfb-8c47-4cd3-9c50-1ac9e5748c68",
   "metadata": {},
   "outputs": [],
   "source": [
    "qt = QuantileTransformer(output_distribution='normal')\n",
    "x_train[['CoapplicantIncome']] = qt.fit_transform(x_train[['CoapplicantIncome']])"
   ]
  },
  {
   "cell_type": "code",
   "execution_count": 462,
   "id": "ef0e402a",
   "metadata": {},
   "outputs": [
    {
     "data": {
      "text/plain": [
       "<AxesSubplot:xlabel='ApplicantIncome', ylabel='Density'>"
      ]
     },
     "execution_count": 462,
     "metadata": {},
     "output_type": "execute_result"
    },
    {
     "data": {
      "image/png": "[encoded data removed]",
      "text/plain": [
       "<Figure size 432x288 with 1 Axes>"
      ]
     },
     "metadata": {
      "needs_background": "light"
     },
     "output_type": "display_data"
    }
   ],
   "source": [
    "sns.distplot(x_train['ApplicantIncome'])"
   ]
  },
  {
   "cell_type": "code",
   "execution_count": null,
   "id": "ea5fde38-fe8b-426f-8ec9-e920fee6e2dd",
   "metadata": {},
   "outputs": [],
   "source": []
  },
  {
   "cell_type": "code",
   "execution_count": 606,
   "id": "d9001e7b-b7c4-42f0-873d-b196ee54913a",
   "metadata": {},
   "outputs": [],
   "source": [
    "oh = OneHotEncoder(drop='first')\n",
    "encode_feature = oh.fit_transform(x_train[['Gender', 'Married', 'Education', 'Property_Area']]).toarray()\n",
    "encode_feature2 = oh.transform(x_test[['Gender', 'Married', 'Education', 'Property_Area']]).toarray()\n",
    "encode_df = pd.DataFrame(encode_feature,  \n",
    "                         columns = oh.get_feature_names(['Gender', 'Married', 'Education', 'Property_Area']),\n",
    "                         index = x_train.index)\n",
    "encode_df2 = pd.DataFrame(encode_feature2,  \n",
    "                         columns = oh.get_feature_names(['Gender', 'Married', 'Education', 'Property_Area']),\n",
    "                         index = x_test.index)"
   ]
  },
  {
   "cell_type": "code",
   "execution_count": 607,
   "id": "4961add6-31f6-4f60-abf4-ad8f8cc6f785",
   "metadata": {},
   "outputs": [],
   "source": [
    "x_train = x_train.drop(['Gender', 'Married', 'Education', 'Property_Area'], axis = 1)\n",
    "x_test = x_test.drop(['Gender', 'Married', 'Education', 'Property_Area'], axis = 1)\n",
    "x_train = pd.concat([encode_df, x_train], axis = 1)\n",
    "x_test = pd.concat([encode_df2, x_test], axis = 1)"
   ]
  },
  {
   "cell_type": "code",
   "execution_count": 602,
   "id": "f69bfac6-ae2f-4834-aaaa-fd966698671e",
   "metadata": {},
   "outputs": [
    {
     "data": {
      "text/html": [
       "<div>\n",
       "<style scoped>\n",
       "    .dataframe tbody tr th:only-of-type {\n",
       "        vertical-align: middle;\n",
       "    }\n",
       "\n",
       "    .dataframe tbody tr th {\n",
       "        vertical-align: top;\n",
       "    }\n",
       "\n",
       "    .dataframe thead th {\n",
       "        text-align: right;\n",
       "    }\n",
       "</style>\n",
       "<table border=\"1\" class=\"dataframe\">\n",
       "  <thead>\n",
       "    <tr style=\"text-align: right;\">\n",
       "      <th></th>\n",
       "      <th>Gender</th>\n",
       "      <th>Married</th>\n",
       "      <th>Education</th>\n",
       "      <th>Credit_History</th>\n",
       "      <th>Property_Area</th>\n",
       "    </tr>\n",
       "  </thead>\n",
       "  <tbody>\n",
       "    <tr>\n",
       "      <th>0</th>\n",
       "      <td>Male</td>\n",
       "      <td>No</td>\n",
       "      <td>Graduate</td>\n",
       "      <td>1.0</td>\n",
       "      <td>Urban</td>\n",
       "    </tr>\n",
       "    <tr>\n",
       "      <th>3</th>\n",
       "      <td>Male</td>\n",
       "      <td>Yes</td>\n",
       "      <td>Not Graduate</td>\n",
       "      <td>1.0</td>\n",
       "      <td>Urban</td>\n",
       "    </tr>\n",
       "    <tr>\n",
       "      <th>12</th>\n",
       "      <td>Male</td>\n",
       "      <td>Yes</td>\n",
       "      <td>Graduate</td>\n",
       "      <td>1.0</td>\n",
       "      <td>Urban</td>\n",
       "    </tr>\n",
       "    <tr>\n",
       "      <th>14</th>\n",
       "      <td>Male</td>\n",
       "      <td>Yes</td>\n",
       "      <td>Graduate</td>\n",
       "      <td>1.0</td>\n",
       "      <td>Urban</td>\n",
       "    </tr>\n",
       "    <tr>\n",
       "      <th>20</th>\n",
       "      <td>Male</td>\n",
       "      <td>Yes</td>\n",
       "      <td>Not Graduate</td>\n",
       "      <td>0.0</td>\n",
       "      <td>Urban</td>\n",
       "    </tr>\n",
       "    <tr>\n",
       "      <th>...</th>\n",
       "      <td>...</td>\n",
       "      <td>...</td>\n",
       "      <td>...</td>\n",
       "      <td>...</td>\n",
       "      <td>...</td>\n",
       "    </tr>\n",
       "    <tr>\n",
       "      <th>578</th>\n",
       "      <td>Male</td>\n",
       "      <td>Yes</td>\n",
       "      <td>Graduate</td>\n",
       "      <td>1.0</td>\n",
       "      <td>Rural</td>\n",
       "    </tr>\n",
       "    <tr>\n",
       "      <th>587</th>\n",
       "      <td>Female</td>\n",
       "      <td>No</td>\n",
       "      <td>Not Graduate</td>\n",
       "      <td>1.0</td>\n",
       "      <td>Semiurban</td>\n",
       "    </tr>\n",
       "    <tr>\n",
       "      <th>595</th>\n",
       "      <td>Male</td>\n",
       "      <td>No</td>\n",
       "      <td>Not Graduate</td>\n",
       "      <td>1.0</td>\n",
       "      <td>Rural</td>\n",
       "    </tr>\n",
       "    <tr>\n",
       "      <th>596</th>\n",
       "      <td>Male</td>\n",
       "      <td>Yes</td>\n",
       "      <td>Not Graduate</td>\n",
       "      <td>1.0</td>\n",
       "      <td>Rural</td>\n",
       "    </tr>\n",
       "    <tr>\n",
       "      <th>603</th>\n",
       "      <td>Male</td>\n",
       "      <td>No</td>\n",
       "      <td>Graduate</td>\n",
       "      <td>1.0</td>\n",
       "      <td>Rural</td>\n",
       "    </tr>\n",
       "  </tbody>\n",
       "</table>\n",
       "<p>122 rows × 5 columns</p>\n",
       "</div>"
      ],
      "text/plain": [
       "     Gender Married     Education  Credit_History Property_Area\n",
       "0      Male      No      Graduate             1.0         Urban\n",
       "3      Male     Yes  Not Graduate             1.0         Urban\n",
       "12     Male     Yes      Graduate             1.0         Urban\n",
       "14     Male     Yes      Graduate             1.0         Urban\n",
       "20     Male     Yes  Not Graduate             0.0         Urban\n",
       "..      ...     ...           ...             ...           ...\n",
       "578    Male     Yes      Graduate             1.0         Rural\n",
       "587  Female      No  Not Graduate             1.0     Semiurban\n",
       "595    Male      No  Not Graduate             1.0         Rural\n",
       "596    Male     Yes  Not Graduate             1.0         Rural\n",
       "603    Male      No      Graduate             1.0         Rural\n",
       "\n",
       "[122 rows x 5 columns]"
      ]
     },
     "execution_count": 602,
     "metadata": {},
     "output_type": "execute_result"
    }
   ],
   "source": []
  },
  {
   "cell_type": "code",
   "execution_count": 640,
   "id": "60fc112f-2437-405f-b89b-b1e6449bc74f",
   "metadata": {},
   "outputs": [
    {
     "data": {
      "text/plain": [
       "0.8130081300813008"
      ]
     },
     "execution_count": 640,
     "metadata": {},
     "output_type": "execute_result"
    }
   ],
   "source": [
    "logist_reg = LogisticRegressionCV()\n",
    "model = logist_reg.fit(x_train, y_train)\n",
    "model.score(x_train, y_train)"
   ]
  },
  {
   "cell_type": "markdown",
   "id": "9418f7a7-9c96-42af-a170-8f7362188d4c",
   "metadata": {},
   "source": [
    "### Tuning hyperparameters"
   ]
  },
  {
   "cell_type": "code",
   "execution_count": 641,
   "id": "08125b41-0c81-41d3-81bd-badebfae7336",
   "metadata": {},
   "outputs": [],
   "source": [
    "parameters = {'solver': ['newton-cg', 'lbfgs', 'liblinear', 'sag', 'saga'],\n",
    "             'penalty': ['l1', 'l2', 'elasticnet'],\n",
    "             'Cs': [100, 10, 1, 0.1, 0.01],\n",
    "             'class_weight': ['balanced']}"
   ]
  },
  {
   "cell_type": "code",
   "execution_count": 642,
   "id": "700df1bc-8f08-40e4-8562-6328536f2a76",
   "metadata": {},
   "outputs": [
    {
     "data": {
      "text/plain": [
       "0.8523206751054854"
      ]
     },
     "execution_count": 642,
     "metadata": {},
     "output_type": "execute_result"
    }
   ],
   "source": [
    "rs = RandomizedSearchCV(logist_reg, param_distributions=parameters, cv = 10, scoring = 'f1').fit(x_train, y_train)\n",
    "rs.score(x_train, y_train)"
   ]
  },
  {
   "cell_type": "code",
   "execution_count": 643,
   "id": "7aabd0cc-49d1-4caf-abd5-0a03071fd0ba",
   "metadata": {},
   "outputs": [
    {
     "name": "stdout",
     "output_type": "stream",
     "text": [
      "{'solver': 'sag', 'penalty': 'l2', 'class_weight': 'balanced', 'Cs': 100}\n",
      "0.8449484923934085\n"
     ]
    }
   ],
   "source": [
    "print(rs.best_params_)\n",
    "print(rs.best_score_)"
   ]
  },
  {
   "cell_type": "code",
   "execution_count": 260,
   "id": "afb1daef-0ee0-4548-834f-2d99a2f330dd",
   "metadata": {},
   "outputs": [],
   "source": [
    "test = pd.DataFrame({'Gender': ['Female'], \n",
    "              'Married': ['No'],\n",
    "              'Education': ['Graduate'], \n",
    "              'Self_Employed': ['No'],\n",
    "              'Property_Area': ['Urban'], \n",
    "              'Credit_History': [0]})\n",
    "test2 = pd.concat([pd.DataFrame(oh.transform(test[['Gender', 'Married', 'Education', 'Self_Employed', 'Property_Area']]).toarray(), \n",
    "             columns = oh.get_feature_names(['Gender', 'Married', 'Education', 'Self_Employed', 'Property_Area'])), test.iloc[:, -1]], axis = 1)"
   ]
  },
  {
   "cell_type": "code",
   "execution_count": 261,
   "id": "defdbaf2-ef82-4350-9a16-48d420e38e90",
   "metadata": {},
   "outputs": [
    {
     "data": {
      "text/html": [
       "<div>\n",
       "<style scoped>\n",
       "    .dataframe tbody tr th:only-of-type {\n",
       "        vertical-align: middle;\n",
       "    }\n",
       "\n",
       "    .dataframe tbody tr th {\n",
       "        vertical-align: top;\n",
       "    }\n",
       "\n",
       "    .dataframe thead th {\n",
       "        text-align: right;\n",
       "    }\n",
       "</style>\n",
       "<table border=\"1\" class=\"dataframe\">\n",
       "  <thead>\n",
       "    <tr style=\"text-align: right;\">\n",
       "      <th></th>\n",
       "      <th>Gender_Male</th>\n",
       "      <th>Married_Yes</th>\n",
       "      <th>Education_Not Graduate</th>\n",
       "      <th>Self_Employed_Yes</th>\n",
       "      <th>Property_Area_Semiurban</th>\n",
       "      <th>Property_Area_Urban</th>\n",
       "      <th>Credit_History</th>\n",
       "    </tr>\n",
       "  </thead>\n",
       "  <tbody>\n",
       "    <tr>\n",
       "      <th>0</th>\n",
       "      <td>0.0</td>\n",
       "      <td>0.0</td>\n",
       "      <td>0.0</td>\n",
       "      <td>0.0</td>\n",
       "      <td>0.0</td>\n",
       "      <td>1.0</td>\n",
       "      <td>0</td>\n",
       "    </tr>\n",
       "  </tbody>\n",
       "</table>\n",
       "</div>"
      ],
      "text/plain": [
       "   Gender_Male  Married_Yes  Education_Not Graduate  Self_Employed_Yes  \\\n",
       "0          0.0          0.0                     0.0                0.0   \n",
       "\n",
       "   Property_Area_Semiurban  Property_Area_Urban  Credit_History  \n",
       "0                      0.0                  1.0               0  "
      ]
     },
     "execution_count": 261,
     "metadata": {},
     "output_type": "execute_result"
    }
   ],
   "source": []
  },
  {
   "cell_type": "code",
   "execution_count": 644,
   "id": "eb71795e-745b-450f-a6cf-ff58a60237c1",
   "metadata": {},
   "outputs": [
    {
     "name": "stdout",
     "output_type": "stream",
     "text": [
      "              precision    recall  f1-score   support\n",
      "\n",
      "           0       0.58      0.47      0.52        38\n",
      "           1       0.78      0.85      0.81        84\n",
      "\n",
      "    accuracy                           0.73       122\n",
      "   macro avg       0.68      0.66      0.67       122\n",
      "weighted avg       0.72      0.73      0.72       122\n",
      "\n"
     ]
    }
   ],
   "source": [
    "print(classification_report(y_test, rs.predict(x_test)))"
   ]
  },
  {
   "cell_type": "code",
   "execution_count": 646,
   "id": "6dd8a3b4-8fe6-429a-bb2f-ec1878ec446f",
   "metadata": {},
   "outputs": [
    {
     "data": {
      "text/plain": [
       "<AxesSubplot:>"
      ]
     },
     "execution_count": 646,
     "metadata": {},
     "output_type": "execute_result"
    },
    {
     "data": {
      "image/png": "[encoded data removed]",
      "text/plain": [
       "<Figure size 432x288 with 2 Axes>"
      ]
     },
     "metadata": {
      "needs_background": "light"
     },
     "output_type": "display_data"
    }
   ],
   "source": [
    "sns.heatmap(confusion_matrix(y_test, rs.predict(x_test)), annot = True)"
   ]
  },
  {
   "cell_type": "code",
   "execution_count": 648,
   "id": "af1a6341-ab6c-4c9f-bd31-b4bf73ed1f86",
   "metadata": {},
   "outputs": [
    {
     "name": "stdout",
     "output_type": "stream",
     "text": [
      "Collecting imbalanced-learn\n",
      "  Downloading imbalanced_learn-0.9.0-py3-none-any.whl (199 kB)\n",
      "Collecting scikit-learn>=1.0.1\n",
      "  Downloading scikit_learn-1.0.2-cp38-cp38-win_amd64.whl (7.2 MB)\n",
      "Requirement already satisfied: numpy>=1.14.6 in c:\\users\\pc\\anaconda3\\lib\\site-packages (from imbalanced-learn) (1.20.3)\n",
      "Requirement already satisfied: scipy>=1.1.0 in c:\\users\\pc\\anaconda3\\lib\\site-packages (from imbalanced-learn) (1.6.2)\n",
      "Requirement already satisfied: threadpoolctl>=2.0.0 in c:\\users\\pc\\anaconda3\\lib\\site-packages (from imbalanced-learn) (2.2.0)\n",
      "Requirement already satisfied: joblib>=0.11 in c:\\users\\pc\\anaconda3\\lib\\site-packages (from imbalanced-learn) (1.0.1)\n",
      "Installing collected packages: scikit-learn, imbalanced-learn\n",
      "  Attempting uninstall: scikit-learn\n",
      "    Found existing installation: scikit-learn 0.24.2\n",
      "    Uninstalling scikit-learn-0.24.2:\n",
      "      Successfully uninstalled scikit-learn-0.24.2\n",
      "Successfully installed imbalanced-learn-0.9.0 scikit-learn-1.0.2\n"
     ]
    }
   ],
   "source": [
    "!pip install imbalanced-learn"
   ]
  },
  {
   "cell_type": "code",
   "execution_count": 663,
   "id": "44391c9e-826d-4e47-bf91-5d1aaddf282e",
   "metadata": {},
   "outputs": [
    {
     "ename": "ImportError",
     "evalue": "cannot import name 'DistanceMetric' from 'sklearn.metrics' (C:\\Users\\pc\\anaconda3\\lib\\site-packages\\sklearn\\metrics\\__init__.py)",
     "output_type": "error",
     "traceback": [
      "\u001b[1;31m---------------------------------------------------------------------------\u001b[0m",
      "\u001b[1;31mImportError\u001b[0m                               Traceback (most recent call last)",
      "\u001b[1;32m~\\AppData\\Local\\Temp/ipykernel_11216/2268653737.py\u001b[0m in \u001b[0;36m<module>\u001b[1;34m\u001b[0m\n\u001b[0;32m      1\u001b[0m \u001b[1;31m# from imblearn.under_sampling import NearMiss\u001b[0m\u001b[1;33m\u001b[0m\u001b[1;33m\u001b[0m\u001b[1;33m\u001b[0m\u001b[0m\n\u001b[1;32m----> 2\u001b[1;33m \u001b[1;32mfrom\u001b[0m \u001b[0msklearn\u001b[0m\u001b[1;33m.\u001b[0m\u001b[0mmetrics\u001b[0m \u001b[1;32mimport\u001b[0m \u001b[0mDistanceMetric\u001b[0m\u001b[1;33m\u001b[0m\u001b[1;33m\u001b[0m\u001b[0m\n\u001b[0m",
      "\u001b[1;31mImportError\u001b[0m: cannot import name 'DistanceMetric' from 'sklearn.metrics' (C:\\Users\\pc\\anaconda3\\lib\\site-packages\\sklearn\\metrics\\__init__.py)"
     ]
    }
   ],
   "source": [
    "# from imblearn.under_sampling import NearMiss\n",
    "from sklearn.metrics import DistanceMetric"
   ]
  },
  {
   "cell_type": "code",
   "execution_count": 659,
   "id": "72a79137-9b59-42ba-8331-40d97e9dcd6a",
   "metadata": {},
   "outputs": [
    {
     "data": {
      "text/plain": [
       "1    338\n",
       "0    154\n",
       "Name: Loan_Status, dtype: int64"
      ]
     },
     "execution_count": 659,
     "metadata": {},
     "output_type": "execute_result"
    }
   ],
   "source": [
    "y_train.value_counts()"
   ]
  }
 ],
 "metadata": {
  "kernelspec": {
   "display_name": "Python 3 (ipykernel)",
   "language": "python",
   "name": "python3"
  },
  "language_info": {
   "codemirror_mode": {
    "name": "ipython",
    "version": 3
   },
   "file_extension": ".py",
   "mimetype": "text/x-python",
   "name": "python",
   "nbconvert_exporter": "python",
   "pygments_lexer": "ipython3",
   "version": "3.8.8"
  }
 },
 "nbformat": 4,
 "nbformat_minor": 5
}
