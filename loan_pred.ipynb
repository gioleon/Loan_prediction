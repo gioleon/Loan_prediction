{
 "cells": [
  {
   "cell_type": "markdown",
   "id": "05ca7c46",
   "metadata": {},
   "source": [
    "# Loan preddiction "
   ]
  },
  {
   "cell_type": "markdown",
   "id": "f3aed789",
   "metadata": {},
   "source": [
    "### Importing libraries"
   ]
  },
  {
   "cell_type": "code",
   "execution_count": 1,
   "id": "89d69842",
   "metadata": {},
   "outputs": [],
   "source": [
    "import numpy as np\n",
    "import pandas as pd\n",
    "import matplotlib.pyplot as plt\n",
    "import seaborn as sns\n",
    "import warnings\n",
    "from sklearn.preprocessing import OneHotEncoder\n",
    "from sklearn.linear_model import LogisticRegressionCV \n",
    "from sklearn.model_selection import RandomizedSearchCV\n",
    "from sklearn.model_selection import RepeatedStratifiedKFold\n",
    "from sklearn.preprocessing import QuantileTransformer\n",
    "from sklearn.metrics import classification_report, confusion_matrix\n",
    "warnings.filterwarnings('ignore')\n",
    "\n",
    "# Colors\n",
    "color = sns.color_palette('pastel')"
   ]
  },
  {
   "cell_type": "code",
   "execution_count": 2,
   "id": "851abcab",
   "metadata": {},
   "outputs": [],
   "source": [
    "df = pd.read_csv('data/train.csv')\n",
    "df2 = pd.read_csv('data/test.csv')"
   ]
  },
  {
   "cell_type": "code",
   "execution_count": 3,
   "id": "df0d8849",
   "metadata": {},
   "outputs": [],
   "source": [
    "#df.info()"
   ]
  },
  {
   "cell_type": "code",
   "execution_count": 4,
   "id": "3e89774a",
   "metadata": {},
   "outputs": [],
   "source": [
    "# df2.info()"
   ]
  },
  {
   "cell_type": "code",
   "execution_count": 5,
   "id": "256785f6",
   "metadata": {},
   "outputs": [],
   "source": [
    "#df.describe()"
   ]
  },
  {
   "cell_type": "code",
   "execution_count": 6,
   "id": "7590a5a2",
   "metadata": {},
   "outputs": [],
   "source": [
    "#df2.describe()"
   ]
  },
  {
   "cell_type": "code",
   "execution_count": 7,
   "id": "033a695f",
   "metadata": {},
   "outputs": [],
   "source": [
    "#df.shape"
   ]
  },
  {
   "cell_type": "code",
   "execution_count": 8,
   "id": "7fe34d90",
   "metadata": {},
   "outputs": [],
   "source": [
    "# df2.shape"
   ]
  },
  {
   "cell_type": "markdown",
   "id": "0e0f3945",
   "metadata": {},
   "source": [
    "## Data Pre-processing"
   ]
  },
  {
   "cell_type": "markdown",
   "id": "01397bed-99bf-46ab-8bee-bfc26cda2226",
   "metadata": {},
   "source": [
    "### Deleting Loan ID column"
   ]
  },
  {
   "cell_type": "code",
   "execution_count": 9,
   "id": "9b4a47c5-4193-4e69-9307-321cc8881342",
   "metadata": {},
   "outputs": [],
   "source": [
    "df.drop('Loan_ID', axis = 1, inplace = True)"
   ]
  },
  {
   "cell_type": "markdown",
   "id": "9ef2121e",
   "metadata": {},
   "source": [
    "### Imputing missing values for df"
   ]
  },
  {
   "cell_type": "code",
   "execution_count": 10,
   "id": "c1ee7b9a",
   "metadata": {},
   "outputs": [],
   "source": [
    "df['Gender'] = df['Gender'].fillna(df['Gender'].mode(dropna=True)[0])\n",
    "df['Married'] = df['Married'].fillna(df['Married'].mode(dropna=True)[0])\n",
    "df['Dependents'] = df['Dependents'].fillna(df['Dependents'].mode(dropna=True)[0])\n",
    "df['Self_Employed'] = df['Self_Employed'].fillna(df['Self_Employed'].mode(dropna=True)[0])"
   ]
  },
  {
   "cell_type": "markdown",
   "id": "8c3cf24d",
   "metadata": {},
   "source": [
    "Let's analyze the numeric columns with missing values to know what imputacion tecnique use."
   ]
  },
  {
   "cell_type": "code",
   "execution_count": 11,
   "id": "3719ee9e",
   "metadata": {},
   "outputs": [
    {
     "data": {
      "image/png": "[encoded data removed]",
      "text/plain": [
       "<Figure size 432x144 with 3 Axes>"
      ]
     },
     "metadata": {
      "needs_background": "light"
     },
     "output_type": "display_data"
    }
   ],
   "source": [
    "plt.figure(figsize = (6, 2))\n",
    "plt.subplot(131)\n",
    "sns.boxplot(df['LoanAmount'])\n",
    "#.plot.box()\n",
    "plt.subplot(132)\n",
    "sns.boxplot(df['Loan_Amount_Term'])\n",
    "plt.subplot(133)\n",
    "sns.boxplot(df['Credit_History'])\n",
    "plt.tight_layout()\n",
    "plt.show()"
   ]
  },
  {
   "cell_type": "code",
   "execution_count": 12,
   "id": "31d330ab",
   "metadata": {},
   "outputs": [],
   "source": [
    "df['LoanAmount'] = df['LoanAmount'].fillna(np.mean(df['LoanAmount']))\n",
    "df['Loan_Amount_Term'] = df['Loan_Amount_Term'].fillna(df['Loan_Amount_Term'].mode(dropna=True)[0])\n",
    "df['Credit_History'] = df['Credit_History'].fillna(df['Credit_History'].mode(dropna=True)[0])"
   ]
  },
  {
   "cell_type": "markdown",
   "id": "281c8645",
   "metadata": {},
   "source": [
    "### Imputing missing values for df2"
   ]
  },
  {
   "cell_type": "code",
   "execution_count": 13,
   "id": "c6e8d747",
   "metadata": {},
   "outputs": [],
   "source": [
    "df2['Gender'] = df2['Gender'].fillna(df2['Gender'].mode(dropna=True)[0])\n",
    "df2['Dependents'] = df2['Dependents'].fillna(df2['Dependents'].mode(dropna=True)[0])\n",
    "df2['Self_Employed'] = df2['Self_Employed'].fillna(df2['Self_Employed'].mode(dropna=True)[0])"
   ]
  },
  {
   "cell_type": "code",
   "execution_count": null,
   "id": "d013a7ad",
   "metadata": {},
   "outputs": [],
   "source": [
    "df2['LoanAmount'] = df2['LoanAmount'].fillna(np.mean(df2['LoanAmount']))\n",
    "df2['Loan_Amount_Term'] = df2['Loan_Amount_Term'].fillna(df2['Loan_Amount_Term'].mode(dropna=True)[0])\n",
    "df2['Credit_History'] = df2['Credit_History'].fillna(df2['Credit_History'].mode(dropna=True)[0])"
   ]
  },
  {
   "cell_type": "markdown",
   "id": "091e7c48",
   "metadata": {},
   "source": [
    "## Looking for relations"
   ]
  },
  {
   "cell_type": "markdown",
   "id": "fb021413",
   "metadata": {},
   "source": [
    "### Gender"
   ]
  },
  {
   "cell_type": "code",
   "execution_count": null,
   "id": "01abab3c",
   "metadata": {},
   "outputs": [],
   "source": [
    "# Let's encode the target feature.\n",
    "df['Loan_Status'] = df['Loan_Status'].replace({'Y': 1, 'N':0})"
   ]
  },
  {
   "cell_type": "code",
   "execution_count": null,
   "id": "dbd1b46e",
   "metadata": {},
   "outputs": [],
   "source": [
    "df.groupby('Gender')['Loan_Status'].mean()"
   ]
  },
  {
   "cell_type": "markdown",
   "id": "59c2d843",
   "metadata": {},
   "source": [
    "Althought there are more number of men than women, the percentage of granted loans is almost the same."
   ]
  },
  {
   "cell_type": "markdown",
   "id": "7ea8a617",
   "metadata": {},
   "source": [
    "### Married"
   ]
  },
  {
   "cell_type": "code",
   "execution_count": null,
   "id": "93adac9c",
   "metadata": {},
   "outputs": [],
   "source": [
    "df.groupby('Married')['Loan_Status'].mean()"
   ]
  },
  {
   "cell_type": "markdown",
   "id": "2d27a89f",
   "metadata": {},
   "source": [
    "acording to the result, married person has more chance of obtaining a loan."
   ]
  },
  {
   "cell_type": "markdown",
   "id": "634d577f",
   "metadata": {},
   "source": [
    "### Education"
   ]
  },
  {
   "cell_type": "code",
   "execution_count": null,
   "id": "db4d70f9",
   "metadata": {},
   "outputs": [],
   "source": [
    "df.groupby('Education')['Loan_Status'].mean()"
   ]
  },
  {
   "cell_type": "markdown",
   "id": "42904e87",
   "metadata": {},
   "source": [
    "A graduate person has more opportunity to obtain a loan."
   ]
  },
  {
   "cell_type": "markdown",
   "id": "394e6d67",
   "metadata": {},
   "source": [
    "### Self Employed"
   ]
  },
  {
   "cell_type": "code",
   "execution_count": null,
   "id": "e4f87d5f",
   "metadata": {},
   "outputs": [],
   "source": [
    "df.groupby(['Self_Employed'])['Loan_Status'].mean()"
   ]
  },
  {
   "cell_type": "markdown",
   "id": "579b127c",
   "metadata": {},
   "source": [
    "The result for this feature don't say too much. Let's see if the combination of education and self employed give a better view. "
   ]
  },
  {
   "cell_type": "markdown",
   "id": "ef0bdb8e",
   "metadata": {},
   "source": [
    "### Education - Self Employed"
   ]
  },
  {
   "cell_type": "code",
   "execution_count": null,
   "id": "0a7866d3",
   "metadata": {},
   "outputs": [],
   "source": [
    "df.groupby(['Education', 'Self_Employed'])['Loan_Status'].mean()"
   ]
  },
  {
   "cell_type": "markdown",
   "id": "12e48c5c",
   "metadata": {},
   "source": [
    "Here we have a better view, if somebody is graduated doesn't matter whether is self employed or not, the probability to obtain a loan is a little more than 70%. Unlike to somebody who is not graduated, if they are self employed have less chance to get a loan than if they aren't(yes, weird but true)."
   ]
  },
  {
   "cell_type": "markdown",
   "id": "dfb5c17b",
   "metadata": {},
   "source": [
    "### Property Area"
   ]
  },
  {
   "cell_type": "code",
   "execution_count": null,
   "id": "82878c62",
   "metadata": {},
   "outputs": [],
   "source": [
    "df.groupby('Property_Area')['Loan_Status'].mean()"
   ]
  },
  {
   "cell_type": "markdown",
   "id": "db54f1ac",
   "metadata": {},
   "source": [
    "As we can see, people that have properties in a semiurban area have more chance to obtain a loan, unlike that people with properties in a rural area, they have the less chance."
   ]
  },
  {
   "cell_type": "markdown",
   "id": "f89a8e9c",
   "metadata": {},
   "source": [
    "### Dependents"
   ]
  },
  {
   "cell_type": "code",
   "execution_count": null,
   "id": "3e0e84ba",
   "metadata": {},
   "outputs": [],
   "source": [
    "df.groupby('Dependents')['Loan_Status'].mean()"
   ]
  },
  {
   "cell_type": "markdown",
   "id": "b1517198-9636-4349-86d4-c2f27955046b",
   "metadata": {},
   "source": [
    "Have 2 dependents give you a better opportunity to get a loan."
   ]
  },
  {
   "cell_type": "markdown",
   "id": "e654bbfe-1388-4f28-83bb-585cc2b614fe",
   "metadata": {},
   "source": [
    "### Credit History"
   ]
  },
  {
   "cell_type": "code",
   "execution_count": 23,
   "id": "74e4a212-e3bc-446d-a3bb-b55d50a9de79",
   "metadata": {},
   "outputs": [
    {
     "data": {
      "text/plain": [
       "Credit_History\n",
       "0.0    0.078652\n",
       "1.0    0.790476\n",
       "Name: Loan_Status, dtype: float64"
      ]
     },
     "execution_count": 23,
     "metadata": {},
     "output_type": "execute_result"
    }
   ],
   "source": [
    "df.groupby('Credit_History')['Loan_Status'].mean()"
   ]
  },
  {
   "cell_type": "markdown",
   "id": "07614073",
   "metadata": {},
   "source": [
    "As we can see, have credit history increses our chance of obtaining a loan."
   ]
  },
  {
   "cell_type": "markdown",
   "id": "93d7c726-d22a-4b38-8bae-ee5140095c2f",
   "metadata": {},
   "source": [
    "### Correlation between numeric columns and predictor variable"
   ]
  },
  {
   "cell_type": "code",
   "execution_count": 24,
   "id": "058e2009-967d-4b81-995f-75e97d360fc2",
   "metadata": {},
   "outputs": [
    {
     "data": {
      "text/plain": [
       "<AxesSubplot:>"
      ]
     },
     "execution_count": 24,
     "metadata": {},
     "output_type": "execute_result"
    },
    {
     "data": {
      "image/png": "[encoded data removed]",
      "text/plain": [
       "<Figure size 432x288 with 2 Axes>"
      ]
     },
     "metadata": {
      "needs_background": "light"
     },
     "output_type": "display_data"
    }
   ],
   "source": [
    "sns.heatmap(df.corr(), annot = True)"
   ]
  },
  {
   "cell_type": "code",
   "execution_count": 25,
   "id": "f7be3aa0-fe39-4072-bd33-bbfe37f381a9",
   "metadata": {},
   "outputs": [
    {
     "data": {
      "image/png": "[encoded data removed]",
      "text/plain": [
       "<Figure size 720x432 with 4 Axes>"
      ]
     },
     "metadata": {
      "needs_background": "light"
     },
     "output_type": "display_data"
    }
   ],
   "source": [
    "plt.figure(figsize=(10, 6))\n",
    "plt.subplot(221)\n",
    "plt.scatter(df['Loan_Status'], df['ApplicantIncome'])\n",
    "plt.title('Loan Status vs Applicant Income')\n",
    "plt.subplot(222)\n",
    "plt.scatter(df['Loan_Status'], df['CoapplicantIncome'])\n",
    "plt.title('Loan Status vs Coapplicant Income')\n",
    "plt.subplot(223)\n",
    "plt.scatter(df['Loan_Status'], df['LoanAmount'])\n",
    "plt.title('Loan Status vs Loan Amount')\n",
    "plt.subplot(224)\n",
    "plt.scatter(df['Loan_Status'], df['Loan_Amount_Term'])\n",
    "plt.title('Loan Status vs Loan Amount Term')\n",
    "plt.tight_layout()\n",
    "plt.show()"
   ]
  },
  {
   "cell_type": "markdown",
   "id": "70686ebc-55cf-41b8-9edb-c5327f7fa9cd",
   "metadata": {},
   "source": [
    "Confirming the result of the pearson correlation, there's no a strong relationship between the features plotted above and target feature."
   ]
  },
  {
   "cell_type": "markdown",
   "id": "d46c8e40-a724-43af-b705-42c75a476936",
   "metadata": {},
   "source": [
    "### Selecting features with a strong correlation."
   ]
  },
  {
   "cell_type": "code",
   "execution_count": 26,
   "id": "3aef6c97-4571-4742-9f54-8730685fe2a4",
   "metadata": {},
   "outputs": [],
   "source": [
    "features = ['Gender', 'Married', 'Education', 'Credit_History', 'Property_Area']"
   ]
  },
  {
   "cell_type": "markdown",
   "id": "1975803a",
   "metadata": {},
   "source": [
    "## Dividing predictor features and target feature"
   ]
  },
  {
   "cell_type": "code",
   "execution_count": 27,
   "id": "f21bd11d-d277-49ed-8564-a05450a48622",
   "metadata": {},
   "outputs": [],
   "source": [
    "x = df[features]\n",
    "y = df['Loan_Status']"
   ]
  },
  {
   "cell_type": "markdown",
   "id": "99597a73-0c47-42a2-9cf9-ce8229f3ea4b",
   "metadata": {},
   "source": [
    "### Split df into train and test sets"
   ]
  },
  {
   "cell_type": "code",
   "execution_count": 28,
   "id": "7df07a65-1539-45d8-8f06-19a080c177d1",
   "metadata": {},
   "outputs": [],
   "source": [
    "rskf = RepeatedStratifiedKFold()\n",
    "for train_index, test_index in rskf.split(x, y):\n",
    "    x_train, x_test = x.iloc[train_index], x.iloc[test_index]\n",
    "    y_train, y_test = y.iloc[train_index], y.iloc[test_index]"
   ]
  },
  {
   "cell_type": "markdown",
   "id": "d4bc97d4-55c7-45fa-be33-af20e6ac97ae",
   "metadata": {},
   "source": [
    "### Encoding categorical fatures"
   ]
  },
  {
   "cell_type": "code",
   "execution_count": 29,
   "id": "d9001e7b-b7c4-42f0-873d-b196ee54913a",
   "metadata": {},
   "outputs": [],
   "source": [
    "oh = OneHotEncoder()\n",
    "encode_feature = oh.fit_transform(x_train[['Gender', 'Married', 'Education', 'Property_Area']]).toarray()\n",
    "encode_feature2 = oh.transform(x_test[['Gender', 'Married', 'Education', 'Property_Area']]).toarray()\n",
    "encode_df = pd.DataFrame(encode_feature,  \n",
    "                         columns = oh.get_feature_names(['Gender', 'Married', 'Education', 'Property_Area']),\n",
    "                         index = x_train.index)\n",
    "encode_df2 = pd.DataFrame(encode_feature2,  \n",
    "                         columns = oh.get_feature_names(['Gender', 'Married', 'Education', 'Property_Area']),\n",
    "                         index = x_test.index)"
   ]
  },
  {
   "cell_type": "code",
   "execution_count": 30,
   "id": "4961add6-31f6-4f60-abf4-ad8f8cc6f785",
   "metadata": {},
   "outputs": [],
   "source": [
    "x_train = x_train.drop(['Gender', 'Married', 'Education', 'Property_Area'], axis = 1)\n",
    "x_test = x_test.drop(['Gender', 'Married', 'Education', 'Property_Area'], axis = 1)\n",
    "x_train = pd.concat([encode_df, x_train], axis = 1)\n",
    "x_test = pd.concat([encode_df2, x_test], axis = 1)"
   ]
  },
  {
   "cell_type": "code",
   "execution_count": 31,
   "id": "60fc112f-2437-405f-b89b-b1e6449bc74f",
   "metadata": {},
   "outputs": [
    {
     "data": {
      "text/plain": [
       "0.8130081300813008"
      ]
     },
     "execution_count": 31,
     "metadata": {},
     "output_type": "execute_result"
    }
   ],
   "source": [
    "logist_reg = LogisticRegressionCV()\n",
    "model = logist_reg.fit(x_train, y_train)\n",
    "model.score(x_train, y_train)"
   ]
  },
  {
   "cell_type": "markdown",
   "id": "9418f7a7-9c96-42af-a170-8f7362188d4c",
   "metadata": {},
   "source": [
    "### Tuning hyperparameters"
   ]
  },
  {
   "cell_type": "code",
   "execution_count": 32,
   "id": "08125b41-0c81-41d3-81bd-badebfae7336",
   "metadata": {},
   "outputs": [],
   "source": [
    "parameters = {'solver': ['newton-cg', 'lbfgs', 'liblinear', 'sag', 'saga'],\n",
    "             'penalty': ['l1', 'l2', 'elasticnet'],\n",
    "             'Cs': [100, 10, 1, 0.1, 0.01], \n",
    "             'class_weight': ['balanced']\n",
    "             }"
   ]
  },
  {
   "cell_type": "code",
   "execution_count": 40,
   "id": "700df1bc-8f08-40e4-8562-6328536f2a76",
   "metadata": {},
   "outputs": [
    {
     "data": {
      "text/plain": [
       "0.8789473684210527"
      ]
     },
     "execution_count": 40,
     "metadata": {},
     "output_type": "execute_result"
    }
   ],
   "source": [
    "model = RandomizedSearchCV(logist_reg, param_distributions=parameters, cv = 5, scoring = 'f1').fit(x_train, y_train)\n",
    "model.score(x_train, y_train)"
   ]
  },
  {
   "cell_type": "code",
   "execution_count": 34,
   "id": "85dfc6a2-4dff-466a-8498-0ca1108e9469",
   "metadata": {},
   "outputs": [
    {
     "name": "stdout",
     "output_type": "stream",
     "text": [
      "              precision    recall  f1-score   support\n",
      "\n",
      "           0       0.88      0.37      0.52        38\n",
      "           1       0.77      0.98      0.86        84\n",
      "\n",
      "    accuracy                           0.79       122\n",
      "   macro avg       0.82      0.67      0.69       122\n",
      "weighted avg       0.81      0.79      0.76       122\n",
      "\n"
     ]
    }
   ],
   "source": [
    "print(classification_report(y_test, model.predict(x_test)))"
   ]
  },
  {
   "cell_type": "code",
   "execution_count": 41,
   "id": "6dd8a3b4-8fe6-429a-bb2f-ec1878ec446f",
   "metadata": {},
   "outputs": [
    {
     "data": {
      "text/plain": [
       "<AxesSubplot:>"
      ]
     },
     "execution_count": 41,
     "metadata": {},
     "output_type": "execute_result"
    },
    {
     "data": {
      "image/png": "[encoded data removed]",
      "text/plain": [
       "<Figure size 432x288 with 2 Axes>"
      ]
     },
     "metadata": {
      "needs_background": "light"
     },
     "output_type": "display_data"
    }
   ],
   "source": [
    "sns.heatmap(confusion_matrix(y_test, model.predict(x_test)), annot = True)"
   ]
  },
  {
   "cell_type": "code",
   "execution_count": 36,
   "id": "345b4958-3516-444c-937a-a54f4fba36ba",
   "metadata": {},
   "outputs": [],
   "source": [
    "import pickle\n",
    "\n",
    "pkl_file = 'pickles/model.pkl'\n",
    "with open(pkl_file, 'wb') as file:\n",
    "    pickle.dump(model, file)\n",
    "    \n",
    "pkl_file = 'pickles/encoder.pkl'\n",
    "with open(pkl_file, 'wb') as file:\n",
    "    pickle.dump(oh, file)"
   ]
  }
 ],
 "metadata": {
  "kernelspec": {
   "display_name": "Python 3 (ipykernel)",
   "language": "python",
   "name": "python3"
  },
  "language_info": {
   "codemirror_mode": {
    "name": "ipython",
    "version": 3
   },
   "file_extension": ".py",
   "mimetype": "text/x-python",
   "name": "python",
   "nbconvert_exporter": "python",
   "pygments_lexer": "ipython3",
   "version": "3.8.8"
  }
 },
 "nbformat": 4,
 "nbformat_minor": 5
}
